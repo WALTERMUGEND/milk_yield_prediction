{
 "cells": [
  {
   "cell_type": "code",
   "execution_count": 1,
   "metadata": {},
   "outputs": [
    {
     "name": "stdout",
     "output_type": "stream",
     "text": [
      "Defaulting to user installation because normal site-packages is not writeable\n",
      "Requirement already satisfied: scikit-learn==1.4.1.post1 in c:\\users\\lawter\\appdata\\roaming\\python\\python311\\site-packages (1.4.1.post1)\n",
      "Requirement already satisfied: numpy<2.0,>=1.19.5 in c:\\programdata\\anaconda3\\lib\\site-packages (from scikit-learn==1.4.1.post1) (1.24.3)\n",
      "Requirement already satisfied: scipy>=1.6.0 in c:\\programdata\\anaconda3\\lib\\site-packages (from scikit-learn==1.4.1.post1) (1.11.1)\n",
      "Requirement already satisfied: joblib>=1.2.0 in c:\\programdata\\anaconda3\\lib\\site-packages (from scikit-learn==1.4.1.post1) (1.2.0)\n",
      "Requirement already satisfied: threadpoolctl>=2.0.0 in c:\\programdata\\anaconda3\\lib\\site-packages (from scikit-learn==1.4.1.post1) (2.2.0)\n",
      "Note: you may need to restart the kernel to use updated packages.\n"
     ]
    }
   ],
   "source": [
    "pip install scikit-learn==1.4.1.post1\n"
   ]
  },
  {
   "cell_type": "code",
   "execution_count": 1,
   "metadata": {
    "id": "4hNp3H74rwk2"
   },
   "outputs": [],
   "source": [
    "import numpy as np # linear algebra\n",
    "import os\n",
    "import pandas as pd # data processing, CSV file I/O (e.g. pd.read_csv)\n",
    "import seaborn as sns\n",
    "import matplotlib.pyplot as plt"
   ]
  },
  {
   "cell_type": "code",
   "execution_count": 2,
   "metadata": {
    "id": "aI1EAmZusCyc"
   },
   "outputs": [],
   "source": [
    "#C:\\Users\\Lawter\\Desktop\\postgrace\\Homabay_Milk_Data.csv\n",
    "os.chdir('C:/Users/Lawter/Desktop/postgrace')\n",
    "df = pd.read_csv('Homabay_Milk_Data.csv')\n",
    "#C:/Users/WALTER MUGENDI/Desktop/finalcopy/Flask/decision tree\\Homabay_Milk_Data.csv"
   ]
  },
  {
   "cell_type": "code",
   "execution_count": 3,
   "metadata": {
    "colab": {
     "base_uri": "https://localhost:8080/"
    },
    "id": "-dY66vGAsLnV",
    "outputId": "7ca86ba2-897e-4ade-e7ed-a871b1babfc0"
   },
   "outputs": [
    {
     "data": {
      "text/plain": [
       "Area                                         object\n",
       "Cow_Breed                                    object\n",
       "No_of_Calves                                  int64\n",
       "Litres_of_water_Taken_by_the_cow_in_a_day     int64\n",
       "Feeding_Practices                            object\n",
       "Average_Temperature_of_the_Area               int64\n",
       "Yearly_Production                             int64\n",
       "dtype: object"
      ]
     },
     "execution_count": 3,
     "metadata": {},
     "output_type": "execute_result"
    }
   ],
   "source": [
    "df.dtypes"
   ]
  },
  {
   "cell_type": "code",
   "execution_count": 4,
   "metadata": {
    "colab": {
     "base_uri": "https://localhost:8080/"
    },
    "id": "pQMA2GObsPpD",
    "outputId": "f2ede07f-8006-4924-8df9-fde9d49e8ca6"
   },
   "outputs": [
    {
     "data": {
      "text/plain": [
       "(10000, 7)"
      ]
     },
     "execution_count": 4,
     "metadata": {},
     "output_type": "execute_result"
    }
   ],
   "source": [
    "df.shape"
   ]
  },
  {
   "cell_type": "code",
   "execution_count": 6,
   "metadata": {
    "colab": {
     "base_uri": "https://localhost:8080/",
     "height": 313
    },
    "id": "T02tDnDvw21b",
    "outputId": "29741120-5284-498d-f45e-3d7ab023b9e3"
   },
   "outputs": [
    {
     "data": {
      "text/html": [
       "<div>\n",
       "<style scoped>\n",
       "    .dataframe tbody tr th:only-of-type {\n",
       "        vertical-align: middle;\n",
       "    }\n",
       "\n",
       "    .dataframe tbody tr th {\n",
       "        vertical-align: top;\n",
       "    }\n",
       "\n",
       "    .dataframe thead th {\n",
       "        text-align: right;\n",
       "    }\n",
       "</style>\n",
       "<table border=\"1\" class=\"dataframe\">\n",
       "  <thead>\n",
       "    <tr style=\"text-align: right;\">\n",
       "      <th></th>\n",
       "      <th>Area</th>\n",
       "      <th>Cow_Breed</th>\n",
       "      <th>No_of_Calves</th>\n",
       "      <th>Litres_of_water_Taken_by_the_cow_in_a_day</th>\n",
       "      <th>Feeding_Practices</th>\n",
       "      <th>Average_Temperature_of_the_Area</th>\n",
       "      <th>Yearly_Production</th>\n",
       "    </tr>\n",
       "  </thead>\n",
       "  <tbody>\n",
       "    <tr>\n",
       "      <th>0</th>\n",
       "      <td>Rachuonyo North</td>\n",
       "      <td>Guernsey</td>\n",
       "      <td>3</td>\n",
       "      <td>104</td>\n",
       "      <td>Zero-grazing</td>\n",
       "      <td>25</td>\n",
       "      <td>8605</td>\n",
       "    </tr>\n",
       "    <tr>\n",
       "      <th>1</th>\n",
       "      <td>Suba North</td>\n",
       "      <td>Jersey</td>\n",
       "      <td>5</td>\n",
       "      <td>76</td>\n",
       "      <td>Grazing</td>\n",
       "      <td>25</td>\n",
       "      <td>7442</td>\n",
       "    </tr>\n",
       "    <tr>\n",
       "      <th>2</th>\n",
       "      <td>Rachuonyo North</td>\n",
       "      <td>Ayrshire</td>\n",
       "      <td>1</td>\n",
       "      <td>53</td>\n",
       "      <td>Grazing</td>\n",
       "      <td>20</td>\n",
       "      <td>7886</td>\n",
       "    </tr>\n",
       "    <tr>\n",
       "      <th>3</th>\n",
       "      <td>Suba South</td>\n",
       "      <td>Brown Swiss</td>\n",
       "      <td>2</td>\n",
       "      <td>120</td>\n",
       "      <td>Grazing</td>\n",
       "      <td>30</td>\n",
       "      <td>10964</td>\n",
       "    </tr>\n",
       "    <tr>\n",
       "      <th>4</th>\n",
       "      <td>Rachuonyo South</td>\n",
       "      <td>Ayrshire</td>\n",
       "      <td>3</td>\n",
       "      <td>89</td>\n",
       "      <td>Mixed</td>\n",
       "      <td>27</td>\n",
       "      <td>11838</td>\n",
       "    </tr>\n",
       "  </tbody>\n",
       "</table>\n",
       "</div>"
      ],
      "text/plain": [
       "              Area    Cow_Breed  No_of_Calves  \\\n",
       "0  Rachuonyo North     Guernsey             3   \n",
       "1       Suba North       Jersey             5   \n",
       "2  Rachuonyo North     Ayrshire             1   \n",
       "3       Suba South  Brown Swiss             2   \n",
       "4  Rachuonyo South     Ayrshire             3   \n",
       "\n",
       "   Litres_of_water_Taken_by_the_cow_in_a_day Feeding_Practices  \\\n",
       "0                                        104      Zero-grazing   \n",
       "1                                         76           Grazing   \n",
       "2                                         53           Grazing   \n",
       "3                                        120           Grazing   \n",
       "4                                         89             Mixed   \n",
       "\n",
       "   Average_Temperature_of_the_Area  Yearly_Production  \n",
       "0                               25               8605  \n",
       "1                               25               7442  \n",
       "2                               20               7886  \n",
       "3                               30              10964  \n",
       "4                               27              11838  "
      ]
     },
     "execution_count": 6,
     "metadata": {},
     "output_type": "execute_result"
    }
   ],
   "source": [
    "df.head(5)"
   ]
  },
  {
   "cell_type": "code",
   "execution_count": 7,
   "metadata": {
    "colab": {
     "base_uri": "https://localhost:8080/"
    },
    "id": "KZWJ5Ph-sS7C",
    "outputId": "6fd7a809-6092-49aa-d0c2-f4047958d489"
   },
   "outputs": [
    {
     "name": "stdout",
     "output_type": "stream",
     "text": [
      "<class 'pandas.core.frame.DataFrame'>\n",
      "RangeIndex: 10000 entries, 0 to 9999\n",
      "Data columns (total 7 columns):\n",
      " #   Column                                     Non-Null Count  Dtype \n",
      "---  ------                                     --------------  ----- \n",
      " 0   Area                                       10000 non-null  object\n",
      " 1   Cow_Breed                                  10000 non-null  object\n",
      " 2   No_of_Calves                               10000 non-null  int64 \n",
      " 3   Litres_of_water_Taken_by_the_cow_in_a_day  10000 non-null  int64 \n",
      " 4   Feeding_Practices                          10000 non-null  object\n",
      " 5   Average_Temperature_of_the_Area            10000 non-null  int64 \n",
      " 6   Yearly_Production                          10000 non-null  int64 \n",
      "dtypes: int64(4), object(3)\n",
      "memory usage: 547.0+ KB\n"
     ]
    }
   ],
   "source": [
    "##%%\n",
    "df.info()"
   ]
  },
  {
   "cell_type": "code",
   "execution_count": 8,
   "metadata": {
    "colab": {
     "base_uri": "https://localhost:8080/"
    },
    "id": "XboTuaznsbPn",
    "outputId": "44ca7df8-de0a-4ffe-a082-5d6eea4f5d1a"
   },
   "outputs": [
    {
     "data": {
      "text/plain": [
       "Area                                         0\n",
       "Cow_Breed                                    0\n",
       "No_of_Calves                                 0\n",
       "Litres_of_water_Taken_by_the_cow_in_a_day    0\n",
       "Feeding_Practices                            0\n",
       "Average_Temperature_of_the_Area              0\n",
       "Yearly_Production                            0\n",
       "dtype: int64"
      ]
     },
     "execution_count": 8,
     "metadata": {},
     "output_type": "execute_result"
    }
   ],
   "source": [
    "##%%\n",
    "df.isnull().sum()"
   ]
  },
  {
   "cell_type": "code",
   "execution_count": 9,
   "metadata": {
    "colab": {
     "base_uri": "https://localhost:8080/"
    },
    "id": "9h7PQFQysfzU",
    "outputId": "6353ca6b-fb6f-400f-df13-a9869f0b4b7e"
   },
   "outputs": [
    {
     "data": {
      "text/plain": [
       "0"
      ]
     },
     "execution_count": 9,
     "metadata": {},
     "output_type": "execute_result"
    }
   ],
   "source": [
    "df.duplicated().sum()"
   ]
  },
  {
   "cell_type": "code",
   "execution_count": 10,
   "metadata": {
    "id": "nQcf9JWLslzX"
   },
   "outputs": [],
   "source": [
    "df.drop_duplicates(inplace=True)"
   ]
  },
  {
   "cell_type": "code",
   "execution_count": 11,
   "metadata": {
    "colab": {
     "base_uri": "https://localhost:8080/"
    },
    "id": "mib_LDuusr2l",
    "outputId": "a9514f4e-2ae3-4647-94a7-02eae505fb6e"
   },
   "outputs": [
    {
     "data": {
      "text/plain": [
       "7"
      ]
     },
     "execution_count": 11,
     "metadata": {},
     "output_type": "execute_result"
    }
   ],
   "source": [
    "##%%\n",
    "len(df['Area'].unique())"
   ]
  },
  {
   "cell_type": "code",
   "execution_count": 13,
   "metadata": {
    "colab": {
     "base_uri": "https://localhost:8080/",
     "height": 1000
    },
    "id": "nknoayFytZut",
    "outputId": "7c2d6d5d-d915-4c4a-9f12-e6bc94a3349e"
   },
   "outputs": [
    {
     "data": {
      "image/png": "[encoded data removed]",
      "text/plain": [
       "<Figure size 1500x2000 with 1 Axes>"
      ]
     },
     "metadata": {},
     "output_type": "display_data"
    }
   ],
   "source": [
    "plt.figure(figsize=(15,20))\n",
    "sns.countplot(y=df['Area'])\n",
    "plt.savefig('dataanalysis/Areapng121.png')\n",
    "plt.show()\n"
   ]
  },
  {
   "cell_type": "code",
   "execution_count": 14,
   "metadata": {
    "colab": {
     "base_uri": "https://localhost:8080/"
    },
    "id": "NFRxQDHMt0cm",
    "outputId": "74650c98-b105-4ec2-9c16-3cabebd467f4"
   },
   "outputs": [
    {
     "data": {
      "text/plain": [
       "7"
      ]
     },
     "execution_count": 14,
     "metadata": {},
     "output_type": "execute_result"
    }
   ],
   "source": [
    "(df['Area'].value_counts() > 500).sum()"
   ]
  },
  {
   "cell_type": "markdown",
   "metadata": {
    "id": "eTd-7FuDuGhq"
   },
   "source": [
    "# ***YIELD PER AREA***\n",
    "\n",
    "---\n",
    "\n",
    "# New Section"
   ]
  },
  {
   "cell_type": "code",
   "execution_count": 15,
   "metadata": {
    "id": "2eUn8eANuCDL"
   },
   "outputs": [],
   "source": [
    "area = df['Area'].unique()\n",
    "yield_per_area = []\n",
    "for state in area:\n",
    "    yield_per_area.append(df[df['Area']==state]['Yearly_Production'].sum())"
   ]
  },
  {
   "cell_type": "code",
   "execution_count": 16,
   "metadata": {
    "colab": {
     "base_uri": "https://localhost:8080/"
    },
    "id": "vYtgvcU9uYDs",
    "outputId": "8594cfe5-e996-4974-942c-4116c7bbb9cc"
   },
   "outputs": [
    {
     "data": {
      "text/plain": [
       "77016083"
      ]
     },
     "execution_count": 16,
     "metadata": {},
     "output_type": "execute_result"
    }
   ],
   "source": [
    "df['Yearly_Production'].sum()"
   ]
  },
  {
   "cell_type": "code",
   "execution_count": 17,
   "metadata": {
    "colab": {
     "base_uri": "https://localhost:8080/"
    },
    "id": "fmD8aq-nuhnQ",
    "outputId": "7b87f4f2-8570-4f4f-9cc2-6b9a9b8515ee"
   },
   "outputs": [
    {
     "data": {
      "text/plain": [
       "[11057427, 10957727, 10771013, 10994465, 11218430, 11119980, 10897041]"
      ]
     },
     "execution_count": 17,
     "metadata": {},
     "output_type": "execute_result"
    }
   ],
   "source": [
    "yield_per_area"
   ]
  },
  {
   "cell_type": "code",
   "execution_count": 19,
   "metadata": {
    "colab": {
     "base_uri": "https://localhost:8080/",
     "height": 1000
    },
    "id": "DUg0U_X-vBnK",
    "outputId": "df673ee6-7860-45e4-9761-5556290d6c14"
   },
   "outputs": [
    {
     "data": {
      "image/png": "[encoded data removed]",
      "text/plain": [
       "<Figure size 1500x2000 with 1 Axes>"
      ]
     },
     "metadata": {},
     "output_type": "display_data"
    }
   ],
   "source": [
    "plt.figure(figsize=(15, 20))\n",
    "sns.barplot(y=area, x=yield_per_area)\n",
    "plt.savefig('dataanalysis/Areapng2.png')"
   ]
  },
  {
   "cell_type": "code",
   "execution_count": 20,
   "metadata": {
    "colab": {
     "base_uri": "https://localhost:8080/",
     "height": 466
    },
    "id": "6ZMeXzrfvVoJ",
    "outputId": "0d824bd5-3c02-45e6-ec94-5b0155fe6f4c"
   },
   "outputs": [
    {
     "data": {
      "image/png": "[encoded data removed]",
      "text/plain": [
       "<Figure size 640x480 with 1 Axes>"
      ]
     },
     "metadata": {},
     "output_type": "display_data"
    }
   ],
   "source": [
    "sns.countplot(y=df['Cow_Breed'])\n",
    "plt.savefig('dataanalysis/CowBreed.png')"
   ]
  },
  {
   "cell_type": "code",
   "execution_count": 21,
   "metadata": {
    "id": "uGnOd9GKvgeB"
   },
   "outputs": [],
   "source": [
    "cow_Breed = df['Cow_Breed'].unique()\n",
    "yield_per_cow_Breed = []\n",
    "for cow in cow_Breed:\n",
    "    yield_per_cow_Breed.append(df[df['Cow_Breed']==cow]['Yearly_Production'].sum())"
   ]
  },
  {
   "cell_type": "code",
   "execution_count": 22,
   "metadata": {
    "colab": {
     "base_uri": "https://localhost:8080/",
     "height": 465
    },
    "id": "P4v2WdUkwD3N",
    "outputId": "ecebf7c5-213a-43a2-f925-4832b3b5baf1"
   },
   "outputs": [
    {
     "data": {
      "image/png": "[encoded data removed]",
      "text/plain": [
       "<Figure size 640x480 with 1 Axes>"
      ]
     },
     "metadata": {},
     "output_type": "display_data"
    }
   ],
   "source": [
    "sns.barplot(y=cow_Breed,x=yield_per_cow_Breed)\n",
    "plt.savefig('dataanalysis/yield_per_cow_Breed.png')"
   ]
  },
  {
   "cell_type": "code",
   "execution_count": 10,
   "metadata": {
    "id": "jCftdowBwZcK"
   },
   "outputs": [],
   "source": [
    "col = ['Average_Temperature_of_the_Area', 'Litres_of_water_Taken_by_the_cow_in_a_day','No_of_Calves', 'Cow_Breed', 'Feeding_Practices', 'Area', 'Yearly_Production']\n",
    "df = df[col]\n",
    "X = df.iloc[:, :-1]\n",
    "y = df.iloc[:, -1]"
   ]
  },
  {
   "cell_type": "code",
   "execution_count": 11,
   "metadata": {
    "colab": {
     "base_uri": "https://localhost:8080/",
     "height": 216
    },
    "id": "396VrEp7xXCQ",
    "outputId": "2253e7f0-f099-4f00-ba66-efe0a1774e81"
   },
   "outputs": [
    {
     "data": {
      "text/html": [
       "<div>\n",
       "<style scoped>\n",
       "    .dataframe tbody tr th:only-of-type {\n",
       "        vertical-align: middle;\n",
       "    }\n",
       "\n",
       "    .dataframe tbody tr th {\n",
       "        vertical-align: top;\n",
       "    }\n",
       "\n",
       "    .dataframe thead th {\n",
       "        text-align: right;\n",
       "    }\n",
       "</style>\n",
       "<table border=\"1\" class=\"dataframe\">\n",
       "  <thead>\n",
       "    <tr style=\"text-align: right;\">\n",
       "      <th></th>\n",
       "      <th>Average_Temperature_of_the_Area</th>\n",
       "      <th>Litres_of_water_Taken_by_the_cow_in_a_day</th>\n",
       "      <th>No_of_Calves</th>\n",
       "      <th>Cow_Breed</th>\n",
       "      <th>Feeding_Practices</th>\n",
       "      <th>Area</th>\n",
       "      <th>Yearly_Production</th>\n",
       "    </tr>\n",
       "  </thead>\n",
       "  <tbody>\n",
       "    <tr>\n",
       "      <th>0</th>\n",
       "      <td>25</td>\n",
       "      <td>104</td>\n",
       "      <td>3</td>\n",
       "      <td>Guernsey</td>\n",
       "      <td>Zero-grazing</td>\n",
       "      <td>Rachuonyo North</td>\n",
       "      <td>8605</td>\n",
       "    </tr>\n",
       "    <tr>\n",
       "      <th>1</th>\n",
       "      <td>25</td>\n",
       "      <td>76</td>\n",
       "      <td>5</td>\n",
       "      <td>Jersey</td>\n",
       "      <td>Grazing</td>\n",
       "      <td>Suba North</td>\n",
       "      <td>7442</td>\n",
       "    </tr>\n",
       "    <tr>\n",
       "      <th>2</th>\n",
       "      <td>20</td>\n",
       "      <td>53</td>\n",
       "      <td>1</td>\n",
       "      <td>Ayrshire</td>\n",
       "      <td>Grazing</td>\n",
       "      <td>Rachuonyo North</td>\n",
       "      <td>7886</td>\n",
       "    </tr>\n",
       "  </tbody>\n",
       "</table>\n",
       "</div>"
      ],
      "text/plain": [
       "   Average_Temperature_of_the_Area  Litres_of_water_Taken_by_the_cow_in_a_day  \\\n",
       "0                               25                                        104   \n",
       "1                               25                                         76   \n",
       "2                               20                                         53   \n",
       "\n",
       "   No_of_Calves Cow_Breed Feeding_Practices             Area  \\\n",
       "0             3  Guernsey      Zero-grazing  Rachuonyo North   \n",
       "1             5    Jersey           Grazing       Suba North   \n",
       "2             1  Ayrshire           Grazing  Rachuonyo North   \n",
       "\n",
       "   Yearly_Production  \n",
       "0               8605  \n",
       "1               7442  \n",
       "2               7886  "
      ]
     },
     "execution_count": 11,
     "metadata": {},
     "output_type": "execute_result"
    }
   ],
   "source": [
    "df.head(3)"
   ]
  },
  {
   "cell_type": "code",
   "execution_count": 12,
   "metadata": {
    "id": "9pp16i_Sxd6O"
   },
   "outputs": [],
   "source": [
    "from sklearn.model_selection import train_test_split\n",
    "X_train, X_test, y_train, y_test = train_test_split(X, y, train_size=0.8, random_state=0, shuffle=True)"
   ]
  },
  {
   "cell_type": "code",
   "execution_count": 13,
   "metadata": {
    "id": "cAy1dbaAxjzs"
   },
   "outputs": [],
   "source": [
    "from sklearn.preprocessing import OneHotEncoder\n",
    "from sklearn.compose import ColumnTransformer\n",
    "from sklearn.preprocessing import StandardScaler\n",
    "ohe = OneHotEncoder(drop='first')\n",
    "scale = StandardScaler()\n",
    "\n",
    "preprocesser = ColumnTransformer(\n",
    "        transformers = [\n",
    "            ('StandardScale', scale, [0, 1, 2,]),\n",
    "            ('OHE', ohe, [3,4, 5]),\n",
    "        ],\n",
    "        remainder='passthrough'\n",
    ")"
   ]
  },
  {
   "cell_type": "code",
   "execution_count": 15,
   "metadata": {
    "id": "VZ1wUagvys3_"
   },
   "outputs": [],
   "source": [
    "##%%\n",
    "X_train_dummy = preprocesser.fit_transform(X_train)\n",
    "X_test_dummy = preprocesser.transform(X_test)"
   ]
  },
  {
   "cell_type": "code",
   "execution_count": 16,
   "metadata": {
    "colab": {
     "base_uri": "https://localhost:8080/"
    },
    "id": "4O5AFz2ay4lN",
    "outputId": "7095315f-f1ed-42ac-ed07-6085cb7837b9"
   },
   "outputs": [
    {
     "data": {
      "text/plain": [
       "array(['StandardScale__Average_Temperature_of_the_Area',\n",
       "       'StandardScale__Litres_of_water_Taken_by_the_cow_in_a_day',\n",
       "       'StandardScale__No_of_Calves', 'OHE__Cow_Breed_Brown Swiss',\n",
       "       'OHE__Cow_Breed_Guernsey', 'OHE__Cow_Breed_Holstein-Friesian',\n",
       "       'OHE__Cow_Breed_Jersey', 'OHE__Feeding_Practices_Mixed',\n",
       "       'OHE__Feeding_Practices_Zero-grazing', 'OHE__Area_Ndhiwa',\n",
       "       'OHE__Area_Rachuonyo East', 'OHE__Area_Rachuonyo North',\n",
       "       'OHE__Area_Rachuonyo South', 'OHE__Area_Suba North',\n",
       "       'OHE__Area_Suba South'], dtype=object)"
      ]
     },
     "execution_count": 16,
     "metadata": {},
     "output_type": "execute_result"
    }
   ],
   "source": [
    "##%%\n",
    "preprocesser.get_feature_names_out(col[:-1])"
   ]
  },
  {
   "cell_type": "code",
   "execution_count": 17,
   "metadata": {
    "colab": {
     "base_uri": "https://localhost:8080/"
    },
    "id": "In4XUIZxzAgO",
    "outputId": "3b2648f3-a8b0-4e68-ca7b-af028a4d24cc"
   },
   "outputs": [
    {
     "name": "stdout",
     "output_type": "stream",
     "text": [
      "lr : mae : 1459.88474445994 score : 0.5780035785286841\n",
      "lss : mae : 1459.5334468875242 score : 0.5781469339359524\n",
      "Rid : mae : 1459.8786173670444 score : 0.5780033932762363\n",
      "Dtr : mae : 1086.7995 score : 0.7534596758006735\n"
     ]
    }
   ],
   "source": [
    "#linear regression\n",
    "from sklearn.linear_model import LinearRegression,Lasso,Ridge\n",
    "from sklearn.neighbors import KNeighborsRegressor\n",
    "from sklearn.tree import DecisionTreeRegressor\n",
    "from sklearn.metrics import mean_absolute_error,r2_score\n",
    "\n",
    "\n",
    "models = {\n",
    "    'lr':LinearRegression(),\n",
    "    'lss':Lasso(),\n",
    "    'Rid':Ridge(),\n",
    "    'Dtr':DecisionTreeRegressor()\n",
    "}\n",
    "for name, md in models.items():\n",
    "    md.fit(X_train_dummy,y_train)\n",
    "    y_pred = md.predict(X_test_dummy)\n",
    "\n",
    "    print(f\"{name} : mae : {mean_absolute_error(y_test,y_pred)} score : {r2_score(y_test,y_pred)}\")"
   ]
  },
  {
   "cell_type": "code",
   "execution_count": 18,
   "metadata": {
    "colab": {
     "base_uri": "https://localhost:8080/"
    },
    "id": "1PmDk-7rzImC",
    "outputId": "f52b8ce9-6ad3-4fdd-a3f5-666b2332c903"
   },
   "outputs": [
    {
     "data": {
      "text/plain": [
       "array([10040.,  7626.,  8171., ...,  5129., 10148.,  9335.])"
      ]
     },
     "execution_count": 18,
     "metadata": {},
     "output_type": "execute_result"
    }
   ],
   "source": [
    "dtr = DecisionTreeRegressor()\n",
    "dtr.fit(X_train_dummy,y_train)\n",
    "dtr.predict(X_test_dummy)"
   ]
  },
  {
   "cell_type": "code",
   "execution_count": 19,
   "metadata": {
    "colab": {
     "base_uri": "https://localhost:8080/"
    },
    "id": "-aQ5hSCA7pAm",
    "outputId": "f7dc084a-7051-409f-aaa7-05b2bc7ad9a2"
   },
   "outputs": [
    {
     "name": "stderr",
     "output_type": "stream",
     "text": [
      "C:\\Users\\Lawter\\AppData\\Roaming\\Python\\Python311\\site-packages\\sklearn\\base.py:493: UserWarning: X does not have valid feature names, but StandardScaler was fitted with feature names\n",
      "  warnings.warn(\n",
      "C:\\Users\\Lawter\\AppData\\Roaming\\Python\\Python311\\site-packages\\sklearn\\base.py:493: UserWarning: X does not have valid feature names, but OneHotEncoder was fitted with feature names\n",
      "  warnings.warn(\n"
     ]
    }
   ],
   "source": [
    "def prediction(Average_Temperature_of_the_Area, Litres_of_water_Taken_by_the_cow_in_a_day,No_of_Calves, Cow_Breed, Feeding_Practices,Area):\n",
    "    # Create an array of the input features\n",
    "    features = np.array([[Average_Temperature_of_the_Area, Litres_of_water_Taken_by_the_cow_in_a_day,No_of_Calves, Cow_Breed, Feeding_Practices, Area]], dtype=object)\n",
    "#'Average_Temperature_of_the_Area', 'Litres_of_water_Taken_by_the_cow_in_a_day','No_of_Calves', 'Cow_Breed', 'Feeding_Practices', 'Area'\n",
    "    # Transform the features using the preprocessor\n",
    "    transformed_features = preprocesser.transform(features)\n",
    "\n",
    "    # Make the prediction\n",
    "    predicted_yield = dtr.predict(transformed_features).reshape(1, -1)\n",
    "\n",
    "    return predicted_yield[0]\n",
    "\n",
    "Average_Temperature_of_the_Area = 22\n",
    "Litres_of_water_Taken_by_the_cow_in_a_day = 80.2\n",
    "No_of_Calves = 3\n",
    "Cow_Breed = 'Guernsey'\n",
    "Feeding_Practices= 'Zero-grazing'\n",
    "Area = 'Suba North'\n",
    "result = prediction(Average_Temperature_of_the_Area, Litres_of_water_Taken_by_the_cow_in_a_day,No_of_Calves, Cow_Breed, Feeding_Practices, Area)"
   ]
  },
  {
   "cell_type": "code",
   "execution_count": 20,
   "metadata": {
    "colab": {
     "base_uri": "https://localhost:8080/"
    },
    "id": "532y6GvD7tRt",
    "outputId": "a8b0168e-efcc-4899-c94a-a24881265197"
   },
   "outputs": [
    {
     "data": {
      "text/plain": [
       "array([11311.])"
      ]
     },
     "execution_count": 20,
     "metadata": {},
     "output_type": "execute_result"
    }
   ],
   "source": [
    "result"
   ]
  },
  {
   "cell_type": "code",
   "execution_count": 21,
   "metadata": {},
   "outputs": [],
   "source": [
    "import pickle\n",
    "pickle.dump(dtr,open('dtr.pkl','wb'))\n",
    "pickle.dump(preprocesser,open('preprocessor.pkl','wb'))"
   ]
  },
  {
   "cell_type": "code",
   "execution_count": 22,
   "metadata": {},
   "outputs": [
    {
     "name": "stdout",
     "output_type": "stream",
     "text": [
      "1.4.1.post1\n"
     ]
    }
   ],
   "source": [
    "import sklearn\n",
    "print(sklearn.__version__)"
   ]
  }
 ],
 "metadata": {
  "colab": {
   "provenance": []
  },
  "kernelspec": {
   "display_name": "Python 3",
   "name": "python3"
  },
  "language_info": {
   "codemirror_mode": {
    "name": "ipython",
    "version": 3
   },
   "file_extension": ".py",
   "mimetype": "text/x-python",
   "name": "python",
   "nbconvert_exporter": "python",
   "pygments_lexer": "ipython3",
   "version": "0.0.0"
  }
 },
 "nbformat": 4,
 "nbformat_minor": 0
}
